{
 "cells": [
  {
   "cell_type": "code",
   "execution_count": 2,
   "metadata": {},
   "outputs": [
    {
     "name": "stderr",
     "output_type": "stream",
     "text": [
      "\u001b[36m\u001b[1m[ \u001b[22m\u001b[39m\u001b[36m\u001b[1mInfo: \u001b[22m\u001b[39mPrecompiling FastFASTQ [top-level]\n"
     ]
    }
   ],
   "source": [
    "using Revise, PyPlot, BenchmarkTools\n",
    "push!(LOAD_PATH, \"./src/FastFASTQ\")\n",
    "using FastFASTQ"
   ]
  },
  {
   "cell_type": "code",
   "execution_count": 2,
   "metadata": {},
   "outputs": [
    {
     "data": {
      "text/plain": [
       "\"AAAAAAGTTCAATATCTTGAAGCATTGTATGATTATACTGCTGATGGGGATGATGAAATATCTATCACAGCCGGTGATCGTATAGTATTAGTTCAAGATGATACTGATGGTAGTGGATGGACAGAAGGAGAACTTAATGGACAAACAGGTATGTTCCCAACTAGTTATGTTAAAAAGATA\""
      ]
     },
     "execution_count": 2,
     "metadata": {},
     "output_type": "execute_result"
    }
   ],
   "source": [
    "# reference sequence.\n",
    "ref = \"AAAAAAGTTCAATATCTTGAAGCATTGTATGATTATACTGCTGATGGGGATGATGAAATATCTATCACAGCCGGTGATCGTATAGTATTAGTTCAAGATGATACTGATGGTAGTGGATGGACAGAAGGAGAACTTAATGGACAAACAGGTATGTTCCCAACTAGTTATGTTAAAAAGATA\""
   ]
  },
  {
   "cell_type": "code",
   "execution_count": 6,
   "metadata": {},
   "outputs": [
    {
     "name": "stdout",
     "output_type": "stream",
     "text": [
      "  0.010397 seconds (40.30 k allocations: 17.725 MiB)\n"
     ]
    }
   ],
   "source": [
    "filepath = \"BAF01_first10k.fastq\"\n",
    "@time counts, totReads, qualReads, totalHigherMuts = countVariants(filepath, ref);"
   ]
  },
  {
   "cell_type": "code",
   "execution_count": 10,
   "metadata": {},
   "outputs": [
    {
     "name": "stdout",
     "output_type": "stream",
     "text": [
      "totReads = 10000\n",
      "qualReads = 8291\n",
      "totalHigherMuts = 1624\n"
     ]
    },
    {
     "name": "stderr",
     "output_type": "stream",
     "text": [
      "┌ Warning: /home/erouviere/Dropbox/protevo/projects/seq_fastq/src/Fastq is not an existing directory, Revise is not watching\n",
      "└ @ Revise /home/erouviere/.julia/packages/Revise/bAgL0/src/packagedef.jl:573\n"
     ]
    }
   ],
   "source": [
    "@show totReads\n",
    "@show qualReads\n",
    "@show totalHigherMuts;"
   ]
  }
 ],
 "metadata": {
  "kernelspec": {
   "display_name": "Julia 1.10.2",
   "language": "julia",
   "name": "julia-1.10"
  },
  "language_info": {
   "file_extension": ".jl",
   "mimetype": "application/julia",
   "name": "julia",
   "version": "1.10.2"
  }
 },
 "nbformat": 4,
 "nbformat_minor": 4
}
